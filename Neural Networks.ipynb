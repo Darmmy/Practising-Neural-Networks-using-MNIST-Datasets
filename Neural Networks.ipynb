{
 "cells": [
  {
   "cell_type": "code",
   "execution_count": 6,
   "id": "3e972024",
   "metadata": {},
   "outputs": [],
   "source": [
    "import numpy as np \n",
    "import matplotlib.pyplot as plt \n",
    "import tensorflow as tf \n",
    "from tensorflow import keras\n"
   ]
  },
  {
   "cell_type": "code",
   "execution_count": 147,
   "id": "3162ec7b",
   "metadata": {},
   "outputs": [],
   "source": [
    "# Mnist comes with Keras by default so we simply load the test and train files using the codes below\n",
    "\n",
    "mnist = keras.datasets.mnist\n",
    "\n",
    "(train_images, train_labels),(test_images, test_labels) = mnist.load_data()"
   ]
  },
  {
   "cell_type": "markdown",
   "id": "6dc39111",
   "metadata": {},
   "source": [
    "### Exploring the Data \n",
    "\n",
    "mnist (Modified National Institute of Standards and Technolog) dataset is a collection of 28 x 28 pixel images showing hand-written representations of the digits 0-9. Every mnist datapoint has two parts: the image of a handwritten digit (x) and the corresponding label(y), Both the training set and the test set contains images and the corresponding labels."
   ]
  },
  {
   "cell_type": "code",
   "execution_count": 148,
   "id": "1a5dd61b",
   "metadata": {},
   "outputs": [
    {
     "name": "stdout",
     "output_type": "stream",
     "text": [
      "Train_images = (60000, 28, 28)\n",
      "Train_labels = (60000,)\n",
      "Test_images = (10000, 28, 28)\n",
      "Test_labels = (10000,)\n"
     ]
    }
   ],
   "source": [
    "# Let's have a look at the shape of the datasets\n",
    "\n",
    "print('Train_images = {}'.format(train_images.shape))\n",
    "print('Train_labels = {}'.format(train_labels.shape))\n",
    "print('Test_images = {}'.format(test_images.shape))\n",
    "print('Test_labels = {}'.format(test_labels.shape))"
   ]
  },
  {
   "cell_type": "code",
   "execution_count": 26,
   "id": "2fc6dd75",
   "metadata": {},
   "outputs": [
    {
     "name": "stdout",
     "output_type": "stream",
     "text": [
      "There are 10 classes in the dataset. They are: [0 1 2 3 4 5 6 7 8 9]\n"
     ]
    }
   ],
   "source": [
    "class_labels = np.unique(train_labels)\n",
    "\n",
    "print(\"There are {} classes in the dataset. They are: {}\".format(len(class_labels), class_labels))"
   ]
  },
  {
   "cell_type": "code",
   "execution_count": 49,
   "id": "8b181150",
   "metadata": {},
   "outputs": [
    {
     "data": {
      "image/png": "[encoded data removed]",
      "text/plain": [
       "<Figure size 576x360 with 3 Axes>"
      ]
     },
     "metadata": {
      "needs_background": "light"
     },
     "output_type": "display_data"
    }
   ],
   "source": [
    "#Visualize the images\n",
    "\n",
    "plt.figure(figsize=(8, 5))\n",
    "\n",
    "\n",
    "plt.subplot(1,3,1)\n",
    "plt.imshow(train_images[0])\n",
    "plt.title(\"Label: {}\".format(train_labels[0]))\n",
    "\n",
    "\n",
    "plt.subplot(1,3,2)\n",
    "plt.imshow(train_images[2506])\n",
    "plt.title(\"Label: {}\".format(train_labels[2506]))\n",
    "\n",
    "\n",
    "plt.subplot(1,3,3)\n",
    "plt.imshow(test_images[9000])\n",
    "plt.title(\"Label: {}\".format(train_labels[9000]))\n",
    "\n",
    "plt.show()\n",
    "\n"
   ]
  },
  {
   "cell_type": "markdown",
   "id": "1e794d1d",
   "metadata": {},
   "source": [
    "### Data Processing "
   ]
  },
  {
   "cell_type": "code",
   "execution_count": 41,
   "id": "da57985d",
   "metadata": {},
   "outputs": [],
   "source": [
    "# As usual, we scale our dataset to range between 0 and 1. In this dataset, the pixel values range from 0 to 255.\n",
    "# Dividing the data by 255 scales to the required range. This normalization is done to help with the training.\n",
    "\n",
    "train_images = train_images / 255.0\n",
    "test_images = test_images / 255.0"
   ]
  },
  {
   "cell_type": "markdown",
   "id": "a3cff701",
   "metadata": {},
   "source": [
    "###### We then partition this dataset further and create a validation set. In other words, a training set is used to fit the parameters, validation set is used to tune the parameters while the trained classifier is evaluated on the test set."
   ]
  },
  {
   "cell_type": "code",
   "execution_count": 45,
   "id": "5b64acbe",
   "metadata": {},
   "outputs": [
    {
     "name": "stdout",
     "output_type": "stream",
     "text": [
      "x_train: (50000, 28, 28)\n",
      "x_val: (10000, 28, 28)\n",
      "y_train (50000,)\n",
      "y_val (10000,)\n"
     ]
    }
   ],
   "source": [
    "x_train = train_images[:50000]\n",
    "x_val = train_images[50000:]\n",
    "y_train = train_labels[:50000]\n",
    "y_val = train_labels[50000:]\n",
    "\n",
    "print('x_train: {}'.format(x_train.shape))\n",
    "print('x_val: {}'.format(x_val.shape))\n",
    "print('y_train {}'.format(y_train.shape))\n",
    "print('y_val {}'.format(y_val.shape))"
   ]
  },
  {
   "cell_type": "code",
   "execution_count": 50,
   "id": "fde28790",
   "metadata": {},
   "outputs": [],
   "source": [
    "# one-hot encoding using keras' numpy-related utilities\n",
    "\n",
    "from tensorflow.keras.utils import to_categorical\n",
    "\n",
    "no_labels = 10\n",
    "\n",
    "y_train = to_categorical(y_train, no_labels)\n",
    "y_val = to_categorical(y_val, no_labels)\n",
    "y_test = to_categorical(test_labels, no_labels)"
   ]
  },
  {
   "cell_type": "code",
   "execution_count": 53,
   "id": "1b28ee01",
   "metadata": {},
   "outputs": [
    {
     "name": "stdout",
     "output_type": "stream",
     "text": [
      "x_train: (50000, 784)\n",
      "x_val: (10000, 784)\n",
      "x_test: (10000, 784)\n"
     ]
    }
   ],
   "source": [
    "# Flattening the images from the 2D 28x28 pixels to 1D 784 pixels\n",
    "\n",
    "new_dimension = np.prod(train_images.shape[1:])\n",
    "\n",
    "x_train = x_train.reshape(x_train.shape[0], new_dimension)\n",
    "x_val = x_val.reshape(x_val.shape[0], new_dimension)\n",
    "x_test = test_images.reshape(test_images.shape[0], new_dimension)\n",
    "\n",
    "print(\"x_train: {}\".format(x_train.shape)) \n",
    "print(\"x_val: {}\".format(x_val.shape))\n",
    "print(\"x_test: {}\".format(x_test.shape)) "
   ]
  },
  {
   "cell_type": "code",
   "execution_count": 59,
   "id": "5053e600",
   "metadata": {},
   "outputs": [],
   "source": [
    "import tensorflow.compat.v1 as tf \n",
    "\n",
    "tf.disable_v2_behavior()\n",
    "\n",
    "X = tf.placeholder(tf.float32, [None, new_dimension])\n",
    "Y = tf.placeholder(tf.float32, [None, no_labels])"
   ]
  },
  {
   "cell_type": "code",
   "execution_count": 84,
   "id": "70992340",
   "metadata": {},
   "outputs": [],
   "source": [
    "# creating  model architecture\n",
    "\n",
    "def multilayer_perceptron(x, no_classes, first_layer_neurons = 256, second_layer_neurons = 128):\n",
    "    \n",
    "    #first layer \n",
    "    \n",
    "    first_weight = tf.Variable(tf.random_uniform([new_dimension, first_layer_neurons]))\n",
    "    first_bias = tf.Variable(tf.zeros([first_layer_neurons]))\n",
    "    first_layer_output = tf.nn.relu(tf.add(tf.matmul(x, first_weight), first_bias))\n",
    "    \n",
    "    #second layer \n",
    "    \n",
    "    second_weight = tf.Variable(tf.random_uniform([first_layer_neurons, second_layer_neurons]))\n",
    "    second_bias = tf.Variable(tf.zeros([second_layer_neurons]))\n",
    "    second_layer_output = tf.nn.relu(tf.add(tf.matmul(first_layer_output, second_weight), second_bias))\n",
    "    \n",
    "    \n",
    "    #output layer \n",
    "    \n",
    "    final_weight = tf.Variable(tf.random_uniform([second_layer_neurons, no_classes]))\n",
    "    final_bias = tf.Variable(tf.zeros([no_classes]))\n",
    "    logits = tf.add(tf.matmul(second_layer_output, final_weight), final_bias)\n",
    "    \n",
    "    return logits\n",
    "\n",
    "    "
   ]
  },
  {
   "cell_type": "code",
   "execution_count": 86,
   "id": "448dc65d",
   "metadata": {},
   "outputs": [],
   "source": [
    "#call the multilayer perceptron function \n",
    "\n",
    "logits = multilayer_perceptron(X, no_labels)\n",
    "\n",
    "\n",
    "learning_rate = 0.01\n",
    "\n",
    "#we define the loss and optimiser for the network\n",
    "\n",
    "loss_op = tf.reduce_mean(tf.nn.softmax_cross_entropy_with_logits(logits=logits, labels=Y))\n",
    "optimiser = tf.train.AdamOptimizer(learning_rate=learning_rate)\n",
    "train_op = optimiser.minimize(loss_op)\n",
    "\n"
   ]
  },
  {
   "cell_type": "code",
   "execution_count": 113,
   "id": "6b6698b2",
   "metadata": {},
   "outputs": [
    {
     "name": "stdout",
     "output_type": "stream",
     "text": [
      "Epoch========0\n",
      "Epoch========1\n",
      "Epoch========2\n",
      "Epoch========3\n",
      "Epoch========4\n",
      "Epoch========5\n",
      "Epoch========6\n",
      "Epoch========7\n",
      "Epoch========8\n",
      "Epoch========9\n",
      "Epoch========10\n",
      "Epoch========11\n",
      "Epoch========12\n",
      "Epoch========13\n",
      "Epoch========14\n",
      "Epoch========15\n",
      "Epoch========16\n",
      "Epoch========17\n",
      "Epoch========18\n",
      "Epoch========19\n",
      "Accuracy: 0.911300003528595\n"
     ]
    }
   ],
   "source": [
    "#initialize the variables \n",
    "init = tf.global_variables_initializer()\n",
    "\n",
    "epochs = 20\n",
    "batch_size = 1000\n",
    "iteration = len(x_train) // batch_size\n",
    "\n",
    "\n",
    "# Training the  Model \n",
    "with tf.Session() as session:\n",
    "    session.run(init)\n",
    "    for epoch in range(epochs):\n",
    "        average_cost = 0\n",
    "        start, end = 0, batch_size\n",
    "        \n",
    "        \n",
    "        for i in range(iteration):\n",
    "            batch_x, batch_y = x_train[start: end], y_train[start: end]\n",
    "            _, loss = session.run([train_op, loss_op], feed_dict={X: batch_x, Y: batch_y})\n",
    "            start += batch_size\n",
    "            end += batch_size \n",
    "            \n",
    "            \n",
    "             #average loss\n",
    "        average_cost += loss/iteration\n",
    "        print(\"Epoch========{}\".format(epoch))\n",
    "            \n",
    "            #evaluate model\n",
    "\n",
    "    prediction = tf.nn.softmax(logits)\n",
    "    ground_truth = tf.equal(tf.argmax(prediction, 1), tf.argmax(Y, 1))\n",
    "    accuracy = tf.reduce_mean(tf.cast(ground_truth, \"float\"))\n",
    "    print(\"Accuracy: {}\".format(accuracy.eval({X: x_test, Y: y_test})))\n",
    "\n",
    "        \n",
    "    \n"
   ]
  },
  {
   "cell_type": "markdown",
   "id": "977e39f1",
   "metadata": {},
   "source": [
    "### Optimization for training deep neural networks"
   ]
  },
  {
   "cell_type": "code",
   "execution_count": 114,
   "id": "11316fea",
   "metadata": {},
   "outputs": [],
   "source": [
    "#Building a Sequential Feed Forward Network in Keras\n",
    "\n",
    "from tensorflow.keras.layers import Dense\n",
    "from tensorflow.keras.models import Sequential\n",
    "\n",
    "\n",
    "#Build the model object\n",
    "model = Sequential()\n",
    "\n",
    "\n",
    "# Build the input and the hidden layers\n",
    "model.add(Dense(256, activation='relu', input_shape=(new_dimension,)))\n",
    "model.add(Dense(128, activation='relu'))\n",
    "\n",
    "\n",
    "# Build the output layer\n",
    "model.add(Dense(no_labels, activation='softmax'))"
   ]
  },
  {
   "cell_type": "markdown",
   "id": "89348556",
   "metadata": {},
   "source": [
    "Now that the model is in place, we configure the learning process using .compile(). Here we specify our loss function (or objective function). For our setting categorical cross entropy fits the bill, but in general other loss functions are available.\n",
    "\n",
    "As for the optimizer of choice we'll use Adam with default settings. We could also instantiate an optimizer and set parameters before passing it to model.compile() but for this example the defaults will do.\n",
    "\n",
    "We also choose which metrics will be evaluated during training and testing. We can pass any list of metrics - even build metrics ourselves - and have them displayed during training/testing."
   ]
  },
  {
   "cell_type": "code",
   "execution_count": 115,
   "id": "0dbc8c11",
   "metadata": {},
   "outputs": [],
   "source": [
    "model.compile(optimizer='adam', loss=tf.keras.losses.categorical_crossentropy, \n",
    "              metrics=['accuracy'])"
   ]
  },
  {
   "cell_type": "markdown",
   "id": "a67892f6",
   "metadata": {},
   "source": [
    "Having compiled our model we can now start the training process. We have to specify how many times we want to iterate on the whole training set (epochs) and how many samples we use for one update to the model's weights (batch size)."
   ]
  },
  {
   "cell_type": "code",
   "execution_count": 116,
   "id": "2aed7a08",
   "metadata": {},
   "outputs": [
    {
     "name": "stdout",
     "output_type": "stream",
     "text": [
      "Train on 50000 samples, validate on 10000 samples\n",
      "Epoch 1/20\n",
      "50000/50000 [==============================] - ETA: 0s - loss: 0.7036 - acc: 0.8111"
     ]
    },
    {
     "name": "stderr",
     "output_type": "stream",
     "text": [
      "C:\\Users\\DELL\\anaconda3\\lib\\site-packages\\keras\\engine\\training.py:2470: UserWarning: `Model.state_updates` will be removed in a future version. This property should not be used in TensorFlow 2.0, as `updates` are applied automatically.\n",
      "  warnings.warn('`Model.state_updates` will be removed in a future version. '\n"
     ]
    },
    {
     "name": "stdout",
     "output_type": "stream",
     "text": [
      "50000/50000 [==============================] - 6s 118us/sample - loss: 0.7036 - acc: 0.8111 - val_loss: 0.2661 - val_acc: 0.9242\n",
      "Epoch 2/20\n",
      "50000/50000 [==============================] - 5s 102us/sample - loss: 0.2395 - acc: 0.9311 - val_loss: 0.1852 - val_acc: 0.9498\n",
      "Epoch 3/20\n",
      "50000/50000 [==============================] - 5s 97us/sample - loss: 0.1738 - acc: 0.9503 - val_loss: 0.1525 - val_acc: 0.9569\n",
      "Epoch 4/20\n",
      "50000/50000 [==============================] - 5s 98us/sample - loss: 0.1351 - acc: 0.9608 - val_loss: 0.1296 - val_acc: 0.9653\n",
      "Epoch 5/20\n",
      "50000/50000 [==============================] - 5s 104us/sample - loss: 0.1101 - acc: 0.9681 - val_loss: 0.1173 - val_acc: 0.9675\n",
      "Epoch 6/20\n",
      "50000/50000 [==============================] - 5s 94us/sample - loss: 0.0901 - acc: 0.9738 - val_loss: 0.1048 - val_acc: 0.9694\n",
      "Epoch 7/20\n",
      "50000/50000 [==============================] - 5s 95us/sample - loss: 0.0762 - acc: 0.9778 - val_loss: 0.0941 - val_acc: 0.9742\n",
      "Epoch 8/20\n",
      "50000/50000 [==============================] - 5s 100us/sample - loss: 0.0629 - acc: 0.9822 - val_loss: 0.0909 - val_acc: 0.9743\n",
      "Epoch 9/20\n",
      "50000/50000 [==============================] - 5s 104us/sample - loss: 0.0529 - acc: 0.9849 - val_loss: 0.0844 - val_acc: 0.9762\n",
      "Epoch 10/20\n",
      "50000/50000 [==============================] - 5s 99us/sample - loss: 0.0445 - acc: 0.9884 - val_loss: 0.0810 - val_acc: 0.9770\n",
      "Epoch 11/20\n",
      "50000/50000 [==============================] - 5s 104us/sample - loss: 0.0393 - acc: 0.9896 - val_loss: 0.0813 - val_acc: 0.9756\n",
      "Epoch 12/20\n",
      "50000/50000 [==============================] - 5s 102us/sample - loss: 0.0336 - acc: 0.9916 - val_loss: 0.0806 - val_acc: 0.9764\n",
      "Epoch 13/20\n",
      "50000/50000 [==============================] - 5s 99us/sample - loss: 0.0279 - acc: 0.9932 - val_loss: 0.0812 - val_acc: 0.9768\n",
      "Epoch 14/20\n",
      "50000/50000 [==============================] - 5s 102us/sample - loss: 0.0248 - acc: 0.9943 - val_loss: 0.0790 - val_acc: 0.9773\n",
      "Epoch 15/20\n",
      "50000/50000 [==============================] - 5s 99us/sample - loss: 0.0213 - acc: 0.9952 - val_loss: 0.0775 - val_acc: 0.9780\n",
      "Epoch 16/20\n",
      "50000/50000 [==============================] - 5s 100us/sample - loss: 0.0180 - acc: 0.9964 - val_loss: 0.0802 - val_acc: 0.9781\n",
      "Epoch 17/20\n",
      "50000/50000 [==============================] - 5s 98us/sample - loss: 0.0150 - acc: 0.9970 - val_loss: 0.0770 - val_acc: 0.9785\n",
      "Epoch 18/20\n",
      "50000/50000 [==============================] - 5s 107us/sample - loss: 0.0133 - acc: 0.9973 - val_loss: 0.0779 - val_acc: 0.9784\n",
      "Epoch 19/20\n",
      "50000/50000 [==============================] - 5s 106us/sample - loss: 0.0117 - acc: 0.9979 - val_loss: 0.0840 - val_acc: 0.9771\n",
      "Epoch 20/20\n",
      "50000/50000 [==============================] - 5s 104us/sample - loss: 0.0098 - acc: 0.9987 - val_loss: 0.0810 - val_acc: 0.9786\n",
      "Test loss: 0.07266180361167644\n",
      "Test accuracy: 0.9794999957084656\n"
     ]
    }
   ],
   "source": [
    "history = model.fit(x_train, y_train, validation_data=(x_val, y_val), epochs=20, batch_size=1000)\n",
    "\n",
    "test_loss, test_accuracy = model.evaluate(x_test, y_test)\n",
    "print('Test loss: {}'.format(test_loss))\n",
    "print('Test accuracy: {}'.format(test_accuracy))"
   ]
  },
  {
   "cell_type": "code",
   "execution_count": 117,
   "id": "36923174",
   "metadata": {},
   "outputs": [
    {
     "data": {
      "text/plain": [
       "Text(0.5, 1.0, 'Loss Curves - before regularisation')"
      ]
     },
     "execution_count": 117,
     "metadata": {},
     "output_type": "execute_result"
    },
    {
     "data": {
      "image/png": "[encoded data removed]",
      "text/plain": [
       "<Figure size 432x288 with 1 Axes>"
      ]
     },
     "metadata": {
      "needs_background": "light"
     },
     "output_type": "display_data"
    }
   ],
   "source": [
    "#Check for Overfitting\n",
    "\n",
    "plt.figure()\n",
    "plt.plot(history.history['loss'], 'blue')\n",
    "plt.plot(history.history['val_loss'], 'red')\n",
    "plt.legend(['Training loss', 'Validation Loss'])\n",
    "plt.xlabel('Epochs')\n",
    "plt.ylabel('Loss')\n",
    "plt.title('Loss Curves - before regularisation')"
   ]
  },
  {
   "cell_type": "markdown",
   "id": "d149b6b7",
   "metadata": {},
   "source": [
    "Although the validation and training loss seem great, we can see that the validation #loss increases. This identifies overfitting in our network. How do we proceed? #Introduce regularisation to the model.\n"
   ]
  },
  {
   "cell_type": "code",
   "execution_count": 118,
   "id": "17771eb2",
   "metadata": {},
   "outputs": [
    {
     "name": "stdout",
     "output_type": "stream",
     "text": [
      "Train on 50000 samples, validate on 10000 samples\n",
      "Epoch 1/20\n",
      "50000/50000 [==============================] - 7s 137us/sample - loss: 1.0059 - acc: 0.6816 - val_loss: 0.2879 - val_acc: 0.9153\n",
      "Epoch 2/20\n",
      "50000/50000 [==============================] - 6s 115us/sample - loss: 0.3718 - acc: 0.8906 - val_loss: 0.1984 - val_acc: 0.9423\n",
      "Epoch 3/20\n",
      "50000/50000 [==============================] - 6s 122us/sample - loss: 0.2771 - acc: 0.9180 - val_loss: 0.1590 - val_acc: 0.9546\n",
      "Epoch 4/20\n",
      "50000/50000 [==============================] - 6s 118us/sample - loss: 0.2295 - acc: 0.9325 - val_loss: 0.1389 - val_acc: 0.9591\n",
      "Epoch 5/20\n",
      "50000/50000 [==============================] - 6s 117us/sample - loss: 0.1965 - acc: 0.9420 - val_loss: 0.1196 - val_acc: 0.9637\n",
      "Epoch 6/20\n",
      "50000/50000 [==============================] - 6s 122us/sample - loss: 0.1704 - acc: 0.9501 - val_loss: 0.1088 - val_acc: 0.9680\n",
      "Epoch 7/20\n",
      "50000/50000 [==============================] - 6s 117us/sample - loss: 0.1550 - acc: 0.9553 - val_loss: 0.1006 - val_acc: 0.9702\n",
      "Epoch 8/20\n",
      "50000/50000 [==============================] - 6s 117us/sample - loss: 0.1392 - acc: 0.9584 - val_loss: 0.0921 - val_acc: 0.9728\n",
      "Epoch 9/20\n",
      "50000/50000 [==============================] - 6s 120us/sample - loss: 0.1280 - acc: 0.9617 - val_loss: 0.0883 - val_acc: 0.9726\n",
      "Epoch 10/20\n",
      "50000/50000 [==============================] - 6s 115us/sample - loss: 0.1152 - acc: 0.9660 - val_loss: 0.0855 - val_acc: 0.9730\n",
      "Epoch 11/20\n",
      "50000/50000 [==============================] - 6s 119us/sample - loss: 0.1082 - acc: 0.9677 - val_loss: 0.0799 - val_acc: 0.9756\n",
      "Epoch 12/20\n",
      "50000/50000 [==============================] - 6s 117us/sample - loss: 0.0996 - acc: 0.9701 - val_loss: 0.0790 - val_acc: 0.9747\n",
      "Epoch 13/20\n",
      "50000/50000 [==============================] - 6s 115us/sample - loss: 0.0929 - acc: 0.9727 - val_loss: 0.0746 - val_acc: 0.9776\n",
      "Epoch 14/20\n",
      "50000/50000 [==============================] - 6s 121us/sample - loss: 0.0895 - acc: 0.9728 - val_loss: 0.0725 - val_acc: 0.9784\n",
      "Epoch 15/20\n",
      "50000/50000 [==============================] - 6s 117us/sample - loss: 0.0824 - acc: 0.9746 - val_loss: 0.0736 - val_acc: 0.9778\n",
      "Epoch 16/20\n",
      "50000/50000 [==============================] - 6s 117us/sample - loss: 0.0794 - acc: 0.9749 - val_loss: 0.0709 - val_acc: 0.9779\n",
      "Epoch 17/20\n",
      "50000/50000 [==============================] - 6s 120us/sample - loss: 0.0736 - acc: 0.9771 - val_loss: 0.0711 - val_acc: 0.9781\n",
      "Epoch 18/20\n",
      "50000/50000 [==============================] - 6s 116us/sample - loss: 0.0720 - acc: 0.9776 - val_loss: 0.0712 - val_acc: 0.9795\n",
      "Epoch 19/20\n",
      "50000/50000 [==============================] - 6s 121us/sample - loss: 0.0698 - acc: 0.9785 - val_loss: 0.0686 - val_acc: 0.9800\n",
      "Epoch 20/20\n",
      "50000/50000 [==============================] - 6s 124us/sample - loss: 0.0658 - acc: 0.9798 - val_loss: 0.0685 - val_acc: 0.9793\n",
      "Test loss: 0.0666022565318155\n",
      "Test accuracy: 0.9810000061988831\n"
     ]
    }
   ],
   "source": [
    "from tensorflow.keras.layers import Dropout\n",
    "reg_model = Sequential()\n",
    "reg_model.add(Dense(256, activation='relu', input_shape=(new_dimension,)))\n",
    "reg_model.add(Dropout(0.4))\n",
    "reg_model.add(Dense(128, activation='relu'))\n",
    "reg_model.add(Dropout(0.4))\n",
    "reg_model.add(Dense(no_labels, activation='softmax'))\n",
    "\n",
    "reg_model.compile(optimizer='adam', loss=tf.keras.losses.categorical_crossentropy, \n",
    "              metrics=['accuracy'])\n",
    "\n",
    "\n",
    "reg_history = reg_model.fit(x_train, y_train, validation_data=(x_val, y_val), \n",
    "                            epochs=20, batch_size=1000)\n",
    "\n",
    "\n",
    "test_loss, test_accuracy = reg_model.evaluate(x_test, y_test)\n",
    "print('Test loss: {}'.format(test_loss))\n",
    "print('Test accuracy: {}'.format(test_accuracy))"
   ]
  },
  {
   "cell_type": "code",
   "execution_count": 119,
   "id": "897ac257",
   "metadata": {},
   "outputs": [
    {
     "data": {
      "text/plain": [
       "Text(0.5, 1.0, 'Loss Curves - after regularisation')"
      ]
     },
     "execution_count": 119,
     "metadata": {},
     "output_type": "execute_result"
    },
    {
     "data": {
      "image/png": "[encoded data removed]",
      "text/plain": [
       "<Figure size 432x288 with 1 Axes>"
      ]
     },
     "metadata": {
      "needs_background": "light"
     },
     "output_type": "display_data"
    }
   ],
   "source": [
    "#Check for Overfitting\n",
    "\n",
    "plt.figure()\n",
    "plt.plot(reg_history.history['loss'], 'blue')\n",
    "plt.plot(reg_history.history['val_loss'], 'red')\n",
    "plt.legend(['Training loss', 'Validation Loss'])\n",
    "plt.xlabel('Epochs')\n",
    "plt.ylabel('Loss')\n",
    "plt.title('Loss Curves - after regularisation')"
   ]
  },
  {
   "cell_type": "markdown",
   "id": "0a226138",
   "metadata": {},
   "source": [
    "### Let's use our model to predict some images and labels."
   ]
  },
  {
   "cell_type": "code",
   "execution_count": 143,
   "id": "d3bfe6dd",
   "metadata": {},
   "outputs": [
    {
     "name": "stdout",
     "output_type": "stream",
     "text": [
      "3\n"
     ]
    }
   ],
   "source": [
    "predictions = model.predict([test_images])\n",
    "\n",
    "print(np.argmax(predictions[5000]))"
   ]
  },
  {
   "cell_type": "code",
   "execution_count": 144,
   "id": "175a709c",
   "metadata": {},
   "outputs": [
    {
     "data": {
      "text/plain": [
       "<matplotlib.image.AxesImage at 0x21b16d65790>"
      ]
     },
     "execution_count": 144,
     "metadata": {},
     "output_type": "execute_result"
    },
    {
     "data": {
      "image/png": "[encoded data removed]",
      "text/plain": [
       "<Figure size 576x360 with 1 Axes>"
      ]
     },
     "metadata": {
      "needs_background": "light"
     },
     "output_type": "display_data"
    }
   ],
   "source": [
    "# Let's see whether the image would turn out to be 3\n",
    "# Remember that the input data to the network were flattened (changed from 2D(28, 28 ), to 1D(784)). \n",
    "# Before displaying it, we need to convert it back to the size of 28 x 28 pixels.\n",
    "\n",
    "plt.figure(figsize=(8, 5))\n",
    "\n",
    "plt.subplot(1,3,1)\n",
    "plt.imshow(test_images[5000].reshape(28,28), cmap=\"gray\")\n",
    "#plt.show()\n"
   ]
  },
  {
   "cell_type": "code",
   "execution_count": 140,
   "id": "10278db1",
   "metadata": {},
   "outputs": [
    {
     "name": "stdout",
     "output_type": "stream",
     "text": [
      "0\n"
     ]
    }
   ],
   "source": [
    "#printing another entry \n",
    "\n",
    "print(np.argmax(predictions[1700]))"
   ]
  },
  {
   "cell_type": "code",
   "execution_count": 142,
   "id": "2f15ab19",
   "metadata": {},
   "outputs": [
    {
     "data": {
      "text/plain": [
       "<matplotlib.image.AxesImage at 0x21b16d16550>"
      ]
     },
     "execution_count": 142,
     "metadata": {},
     "output_type": "execute_result"
    },
    {
     "data": {
      "image/png": "[encoded data removed]",
      "text/plain": [
       "<Figure size 576x360 with 1 Axes>"
      ]
     },
     "metadata": {
      "needs_background": "light"
     },
     "output_type": "display_data"
    }
   ],
   "source": [
    "# Let's see whether the image would turn out to be 0\n",
    "\n",
    "plt.figure(figsize=(8, 5))\n",
    "\n",
    "plt.subplot(1,3,1)\n",
    "plt.imshow(test_images[1700].reshape(28,28), cmap='gray')"
   ]
  }
 ],
 "metadata": {
  "kernelspec": {
   "display_name": "Python 3",
   "language": "python",
   "name": "python3"
  },
  "language_info": {
   "codemirror_mode": {
    "name": "ipython",
    "version": 3
   },
   "file_extension": ".py",
   "mimetype": "text/x-python",
   "name": "python",
   "nbconvert_exporter": "python",
   "pygments_lexer": "ipython3",
   "version": "3.8.8"
  }
 },
 "nbformat": 4,
 "nbformat_minor": 5
}
